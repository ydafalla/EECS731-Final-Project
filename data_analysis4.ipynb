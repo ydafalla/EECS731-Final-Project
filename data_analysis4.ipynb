{
 "cells": [
  {
   "cell_type": "markdown",
   "metadata": {},
   "source": [
    "## Password Analysis Project"
   ]
  },
  {
   "cell_type": "markdown",
   "metadata": {},
   "source": [
    "### Import the libraries"
   ]
  },
  {
   "cell_type": "code",
   "execution_count": 27,
   "metadata": {},
   "outputs": [],
   "source": [
    "import numpy as np\n",
    "import pandas as pd\n",
    "import matplotlib.pyplot as plt\n",
    "import seaborn as seabornInstance "
   ]
  },
  {
   "cell_type": "markdown",
   "metadata": {},
   "source": [
    "### Loading the datasets to pandas data frames\n",
    "\n",
    "* In this step we load all our passwords lists to pandas dataframes"
   ]
  },
  {
   "cell_type": "code",
   "execution_count": 28,
   "metadata": {
    "scrolled": true
   },
   "outputs": [],
   "source": [
    "pass_list1 = pd.read_csv('Data/yahoo.txt',sep='delimiter', header = None,engine='python')\n",
    "pass_list2 = pd.read_csv('Data/hotmail.txt',sep='delimiter', header = None,engine='python')\n",
    "pass_list3 = pd.read_csv('Data/netflix.txt',sep='delimiter', header = None,engine='python')"
   ]
  },
  {
   "cell_type": "markdown",
   "metadata": {},
   "source": [
    "* Now we concat all password lists and create a new dataframe called password_list that contains all passwords using the following command."
   ]
  },
  {
   "cell_type": "code",
   "execution_count": 29,
   "metadata": {},
   "outputs": [],
   "source": [
    "password_list=pd.concat([pass_list1,pass_list2,pass_list3])"
   ]
  },
  {
   "cell_type": "code",
   "execution_count": 59,
   "metadata": {},
   "outputs": [
    {
     "data": {
      "text/plain": [
       "pandas.core.frame.DataFrame"
      ]
     },
     "execution_count": 59,
     "metadata": {},
     "output_type": "execute_result"
    }
   ],
   "source": [
    "password_list.head()\n",
    "type(password_list)"
   ]
  },
  {
   "cell_type": "code",
   "execution_count": 61,
   "metadata": {},
   "outputs": [
    {
     "data": {
      "text/plain": [
       "(454482, 1)"
      ]
     },
     "execution_count": 61,
     "metadata": {},
     "output_type": "execute_result"
    }
   ],
   "source": [
    "password_list.shape"
   ]
  },
  {
   "cell_type": "code",
   "execution_count": 62,
   "metadata": {},
   "outputs": [
    {
     "data": {
      "text/plain": [
       "(96177, 1)"
      ]
     },
     "execution_count": 62,
     "metadata": {},
     "output_type": "execute_result"
    }
   ],
   "source": [
    "places.shape"
   ]
  },
  {
   "cell_type": "code",
   "execution_count": 63,
   "metadata": {},
   "outputs": [
    {
     "data": {
      "text/plain": [
       "(225634, 1)"
      ]
     },
     "execution_count": 63,
     "metadata": {},
     "output_type": "execute_result"
    }
   ],
   "source": [
    "names.shape"
   ]
  },
  {
   "cell_type": "code",
   "execution_count": 64,
   "metadata": {},
   "outputs": [
    {
     "data": {
      "text/plain": [
       "(58062, 1)"
      ]
     },
     "execution_count": 64,
     "metadata": {},
     "output_type": "execute_result"
    }
   ],
   "source": [
    "english_words.shape"
   ]
  },
  {
   "cell_type": "markdown",
   "metadata": {},
   "source": [
    "* Now we will convert all the passwords to lowercase characters for our analysis part using the following command."
   ]
  },
  {
   "cell_type": "code",
   "execution_count": 31,
   "metadata": {},
   "outputs": [],
   "source": [
    "new_password_list=password_list[0].str.lower()"
   ]
  },
  {
   "cell_type": "code",
   "execution_count": 32,
   "metadata": {
    "scrolled": true
   },
   "outputs": [],
   "source": [
    "new_password_list_reduced=new_password_list[:9]\n",
    "type(new_password_list_reduced)\n",
    "new_password_list_reduced=pd.DataFrame(new_password_list_reduced)"
   ]
  },
  {
   "cell_type": "code",
   "execution_count": 33,
   "metadata": {},
   "outputs": [
    {
     "data": {
      "text/html": [
       "<div>\n",
       "<style scoped>\n",
       "    .dataframe tbody tr th:only-of-type {\n",
       "        vertical-align: middle;\n",
       "    }\n",
       "\n",
       "    .dataframe tbody tr th {\n",
       "        vertical-align: top;\n",
       "    }\n",
       "\n",
       "    .dataframe thead th {\n",
       "        text-align: right;\n",
       "    }\n",
       "</style>\n",
       "<table border=\"1\" class=\"dataframe\">\n",
       "  <thead>\n",
       "    <tr style=\"text-align: right;\">\n",
       "      <th></th>\n",
       "      <th>0</th>\n",
       "    </tr>\n",
       "  </thead>\n",
       "  <tbody>\n",
       "    <tr>\n",
       "      <th>0</th>\n",
       "      <td>@fl!pm0de@</td>\n",
       "    </tr>\n",
       "    <tr>\n",
       "      <th>1</th>\n",
       "      <td>pass</td>\n",
       "    </tr>\n",
       "    <tr>\n",
       "      <th>2</th>\n",
       "      <td>steveol</td>\n",
       "    </tr>\n",
       "    <tr>\n",
       "      <th>3</th>\n",
       "      <td>chotzi</td>\n",
       "    </tr>\n",
       "    <tr>\n",
       "      <th>4</th>\n",
       "      <td>lb2512</td>\n",
       "    </tr>\n",
       "    <tr>\n",
       "      <th>5</th>\n",
       "      <td>scotch</td>\n",
       "    </tr>\n",
       "    <tr>\n",
       "      <th>6</th>\n",
       "      <td>passwerd</td>\n",
       "    </tr>\n",
       "    <tr>\n",
       "      <th>7</th>\n",
       "      <td>flipmode</td>\n",
       "    </tr>\n",
       "    <tr>\n",
       "      <th>8</th>\n",
       "      <td>flipmode</td>\n",
       "    </tr>\n",
       "  </tbody>\n",
       "</table>\n",
       "</div>"
      ],
      "text/plain": [
       "            0\n",
       "0  @fl!pm0de@\n",
       "1        pass\n",
       "2     steveol\n",
       "3      chotzi\n",
       "4      lb2512\n",
       "5      scotch\n",
       "6    passwerd\n",
       "7    flipmode\n",
       "8    flipmode"
      ]
     },
     "execution_count": 33,
     "metadata": {},
     "output_type": "execute_result"
    }
   ],
   "source": [
    "new_password_list_reduced"
   ]
  },
  {
   "cell_type": "markdown",
   "metadata": {},
   "source": [
    "### Load the other datasets\n",
    "* In this step we load the other datasets that are going to be part of the data analysis.\n",
    "* The other loaded datasets are:\n",
    "1. Dictionary Words\n",
    "2. Places\n",
    "3. Names\n",
    "4. Keyboard Patterns\n",
    "\n",
    "* Now we will present a little bit more explanations about the datasets:\n",
    "#### Dictionary Words:\n",
    "The dictionary words consists of 58108 unique english dictionary words. The words were obtained from the following link:\n",
    "http://www.mieliestronk.com/corncob_lowercase.txt\n",
    "\n",
    "#### Places:\n",
    "The places dataset consists of all country names, all city names, all states names and all street names. The dataset contains 96208 unique place. The dataset was obtained from the following links:\n",
    "1. https://inventwithpython.com/blog/2011/09/28/list-of-street-names-list-of-last-names/\n",
    "2. https://simplemaps.com/data/world-cities\n",
    "3. https://gist.github.com/kalinchernev/486393efcca01623b18d\n",
    "4. https://github.com/dr5hn/countries-states-cities-database\n",
    "\n",
    "#### Names\n",
    "The names dataset consists of all first and last names. It consists of 225706 unique names. The names were obtained from the following link:\n",
    "https://github.com/philipperemy/name-dataset/tree/master/names_dataset\n",
    "\n",
    "#### Keyboard patterns\n",
    "The keyboard pattern consists of all keyboard patterns. This dataset consists of 647 unique keyboard patterns. The dataset was obtained from the following link:\n",
    "https://docs.google.com/viewer?a=v&pid=sites&srcid=ZGVmYXVsdGRvbWFpbnxyZXVzYWJsZXNlY3xneDo0ODVmMWY1ZjE0ZDk3Yzc2\n",
    "\n"
   ]
  },
  {
   "cell_type": "code",
   "execution_count": 34,
   "metadata": {},
   "outputs": [
    {
     "data": {
      "text/html": [
       "<div>\n",
       "<style scoped>\n",
       "    .dataframe tbody tr th:only-of-type {\n",
       "        vertical-align: middle;\n",
       "    }\n",
       "\n",
       "    .dataframe tbody tr th {\n",
       "        vertical-align: top;\n",
       "    }\n",
       "\n",
       "    .dataframe thead th {\n",
       "        text-align: right;\n",
       "    }\n",
       "</style>\n",
       "<table border=\"1\" class=\"dataframe\">\n",
       "  <thead>\n",
       "    <tr style=\"text-align: right;\">\n",
       "      <th></th>\n",
       "      <th>0</th>\n",
       "    </tr>\n",
       "  </thead>\n",
       "  <tbody>\n",
       "    <tr>\n",
       "      <th>0</th>\n",
       "      <td>@fl!pm0de@</td>\n",
       "    </tr>\n",
       "    <tr>\n",
       "      <th>1</th>\n",
       "      <td>pass</td>\n",
       "    </tr>\n",
       "    <tr>\n",
       "      <th>2</th>\n",
       "      <td>steveol</td>\n",
       "    </tr>\n",
       "    <tr>\n",
       "      <th>3</th>\n",
       "      <td>chotzi</td>\n",
       "    </tr>\n",
       "    <tr>\n",
       "      <th>4</th>\n",
       "      <td>lb2512</td>\n",
       "    </tr>\n",
       "    <tr>\n",
       "      <th>5</th>\n",
       "      <td>scotch</td>\n",
       "    </tr>\n",
       "    <tr>\n",
       "      <th>6</th>\n",
       "      <td>passwerd</td>\n",
       "    </tr>\n",
       "    <tr>\n",
       "      <th>7</th>\n",
       "      <td>flipmode</td>\n",
       "    </tr>\n",
       "    <tr>\n",
       "      <th>8</th>\n",
       "      <td>flipmode</td>\n",
       "    </tr>\n",
       "  </tbody>\n",
       "</table>\n",
       "</div>"
      ],
      "text/plain": [
       "            0\n",
       "0  @fl!pm0de@\n",
       "1        pass\n",
       "2     steveol\n",
       "3      chotzi\n",
       "4      lb2512\n",
       "5      scotch\n",
       "6    passwerd\n",
       "7    flipmode\n",
       "8    flipmode"
      ]
     },
     "execution_count": 34,
     "metadata": {},
     "output_type": "execute_result"
    }
   ],
   "source": [
    "new_password_list_reduced"
   ]
  },
  {
   "cell_type": "code",
   "execution_count": 50,
   "metadata": {},
   "outputs": [],
   "source": [
    "english_words = pd.read_csv('Data/Dictionary_Words.txt', header = None,engine='python')\n",
    "places = pd.read_csv('Data/Places.txt',sep='delimiter', header = None,engine='python')\n",
    "names= pd.read_csv('Data/names.txt',sep='delimiter', header = None,engine='python')\n",
    "keyboard_patterns= pd.read_csv('Data/keyboard_dic.txt',sep='delimiter', header = None,engine='python')"
   ]
  },
  {
   "cell_type": "markdown",
   "metadata": {},
   "source": [
    "* Now we are going to remove the duplicates from our dataframes using the following commands:"
   ]
  },
  {
   "cell_type": "code",
   "execution_count": 51,
   "metadata": {},
   "outputs": [],
   "source": [
    "english_words.drop_duplicates(inplace=True)\n",
    "places.drop_duplicates(inplace=True)\n",
    "names.drop_duplicates(inplace=True)\n",
    "keyboard_patterns.drop_duplicates(inplace=True)"
   ]
  },
  {
   "cell_type": "markdown",
   "metadata": {},
   "source": [
    "* Change all the dataframes to lowercase characters"
   ]
  },
  {
   "cell_type": "code",
   "execution_count": 52,
   "metadata": {},
   "outputs": [],
   "source": [
    "english_words[0].str.lower()\n",
    "names[0].str.lower()\n",
    "keyboard_patterns[0].str.lower()\n",
    "places[0].str.lower();"
   ]
  },
  {
   "cell_type": "code",
   "execution_count": 53,
   "metadata": {},
   "outputs": [],
   "source": [
    "english_words=english_words[[(len(str(x)) >=3) for x in english_words[0]]]\n",
    "names=names[[(len(str(x)) >=3) for x in names[0]]]\n",
    "places=places[[(len(str(x)) >=3) for x in places[0]]]\n",
    "#english_words=english_words[english_words[0].map(len) >= 3]\n",
    "#names=names[names[0].map(len) >= 3]\n",
    "#places=places[places[0].map(len) >=3]"
   ]
  },
  {
   "cell_type": "code",
   "execution_count": 54,
   "metadata": {},
   "outputs": [
    {
     "data": {
      "text/plain": [
       "(58062, 1)"
      ]
     },
     "execution_count": 54,
     "metadata": {},
     "output_type": "execute_result"
    }
   ],
   "source": [
    "english_words.shape"
   ]
  },
  {
   "cell_type": "markdown",
   "metadata": {},
   "source": [
    "* Count all passwords that contain english words"
   ]
  },
  {
   "cell_type": "code",
   "execution_count": 55,
   "metadata": {},
   "outputs": [
    {
     "name": "stdout",
     "output_type": "stream",
     "text": [
      "ass 2\n",
      "cot 3\n",
      "eve 4\n",
      "flip 6\n",
      "hot 7\n",
      "7\n"
     ]
    }
   ],
   "source": [
    "passwords=new_password_list_reduced.copy()\n",
    "count=0\n",
    "for i in english_words.index.tolist():\n",
    "    j=0\n",
    "    newdf=passwords[0].str.contains(pat=str(english_words[0][i]),regex=False)\n",
    "    j=newdf.sum()\n",
    "    if(j > 0):\n",
    "        count+=j\n",
    "        passwords=passwords[~passwords[0].str.contains(str(english_words[0][i]),regex=False)]\n",
    "        print(str(english_words[0][i]),count)\n",
    "print(count)"
   ]
  },
  {
   "cell_type": "markdown",
   "metadata": {},
   "source": [
    "* Count all names"
   ]
  },
  {
   "cell_type": "code",
   "execution_count": 56,
   "metadata": {},
   "outputs": [
    {
     "name": "stdout",
     "output_type": "stream",
     "text": [
      "eve 1\n",
      "ode 3\n",
      "scot 4\n",
      "hotz 5\n",
      "5\n"
     ]
    }
   ],
   "source": [
    "passwords=new_password_list_reduced.copy()\n",
    "count_names=0\n",
    "for i in names.index.tolist():\n",
    "    j=0\n",
    "    newdf=passwords[0].str.contains(pat=str(names[0][i]),regex=False)\n",
    "    j=newdf.sum()\n",
    "    if(j > 0):\n",
    "        count_names+=j\n",
    "        passwords=passwords[~passwords[0].str.contains(str(names[0][i]),regex=False)]\n",
    "        print(str(names[0][i]),count_names)\n",
    "print(count_names)"
   ]
  },
  {
   "cell_type": "markdown",
   "metadata": {},
   "source": [
    "* Count all keyboard patterns"
   ]
  },
  {
   "cell_type": "code",
   "execution_count": 57,
   "metadata": {},
   "outputs": [
    {
     "name": "stdout",
     "output_type": "stream",
     "text": [
      "wer 1\n",
      "1\n"
     ]
    }
   ],
   "source": [
    "passwords=new_password_list_reduced.copy()\n",
    "count_key=0\n",
    "for i in keyboard_patterns.index.tolist():\n",
    "    j=0\n",
    "    newdf=passwords[0].str.contains(pat=str(keyboard_patterns[0][i]),regex=False)\n",
    "    j=newdf.sum()\n",
    "    if(j > 0):\n",
    "        count_key+=j\n",
    "        passwords=passwords[~passwords[0].str.contains(str(keyboard_patterns[0][i]),regex=False)]\n",
    "        print(str(keyboard_patterns[0][i]),count_key)\n",
    "print(count_key)"
   ]
  },
  {
   "cell_type": "markdown",
   "metadata": {},
   "source": [
    "* Count all places"
   ]
  },
  {
   "cell_type": "code",
   "execution_count": 58,
   "metadata": {},
   "outputs": [
    {
     "name": "stdout",
     "output_type": "stream",
     "text": [
      "0\n"
     ]
    }
   ],
   "source": [
    "passwords=new_password_list_reduced.copy()\n",
    "count_places=0\n",
    "for i in places.index.tolist():\n",
    "    j=0\n",
    "    newdf=passwords[0].str.contains(pat=str(places[0][i]),regex=False)\n",
    "    j=newdf.sum()\n",
    "    if(j > 0):\n",
    "        count_places+=j\n",
    "        passwords=passwords[~passwords[0].str.contains(str(places[0][i]),regex=False)]\n",
    "        print(str(places[0][i]),count_places)\n",
    "print(count_places)"
   ]
  },
  {
   "cell_type": "code",
   "execution_count": 45,
   "metadata": {},
   "outputs": [],
   "source": [
    "passwords=new_password_list_reduced"
   ]
  },
  {
   "cell_type": "code",
   "execution_count": 46,
   "metadata": {},
   "outputs": [
    {
     "data": {
      "text/html": [
       "<div>\n",
       "<style scoped>\n",
       "    .dataframe tbody tr th:only-of-type {\n",
       "        vertical-align: middle;\n",
       "    }\n",
       "\n",
       "    .dataframe tbody tr th {\n",
       "        vertical-align: top;\n",
       "    }\n",
       "\n",
       "    .dataframe thead th {\n",
       "        text-align: right;\n",
       "    }\n",
       "</style>\n",
       "<table border=\"1\" class=\"dataframe\">\n",
       "  <thead>\n",
       "    <tr style=\"text-align: right;\">\n",
       "      <th></th>\n",
       "      <th>0</th>\n",
       "    </tr>\n",
       "  </thead>\n",
       "  <tbody>\n",
       "    <tr>\n",
       "      <th>0</th>\n",
       "      <td>@fl!pm0de@</td>\n",
       "    </tr>\n",
       "    <tr>\n",
       "      <th>1</th>\n",
       "      <td>pass</td>\n",
       "    </tr>\n",
       "    <tr>\n",
       "      <th>2</th>\n",
       "      <td>steveol</td>\n",
       "    </tr>\n",
       "    <tr>\n",
       "      <th>3</th>\n",
       "      <td>chotzi</td>\n",
       "    </tr>\n",
       "    <tr>\n",
       "      <th>4</th>\n",
       "      <td>lb2512</td>\n",
       "    </tr>\n",
       "    <tr>\n",
       "      <th>5</th>\n",
       "      <td>scotch</td>\n",
       "    </tr>\n",
       "    <tr>\n",
       "      <th>6</th>\n",
       "      <td>passwerd</td>\n",
       "    </tr>\n",
       "    <tr>\n",
       "      <th>7</th>\n",
       "      <td>flipmode</td>\n",
       "    </tr>\n",
       "    <tr>\n",
       "      <th>8</th>\n",
       "      <td>flipmode</td>\n",
       "    </tr>\n",
       "  </tbody>\n",
       "</table>\n",
       "</div>"
      ],
      "text/plain": [
       "            0\n",
       "0  @fl!pm0de@\n",
       "1        pass\n",
       "2     steveol\n",
       "3      chotzi\n",
       "4      lb2512\n",
       "5      scotch\n",
       "6    passwerd\n",
       "7    flipmode\n",
       "8    flipmode"
      ]
     },
     "execution_count": 46,
     "metadata": {},
     "output_type": "execute_result"
    }
   ],
   "source": [
    "passwords"
   ]
  },
  {
   "cell_type": "code",
   "execution_count": 67,
   "metadata": {},
   "outputs": [],
   "source": [
    "all_passwords=pd.DataFrame(new_password_list)"
   ]
  },
  {
   "cell_type": "code",
   "execution_count": 75,
   "metadata": {},
   "outputs": [
    {
     "data": {
      "text/plain": [
       "Series([], dtype: int64)"
      ]
     },
     "execution_count": 75,
     "metadata": {},
     "output_type": "execute_result"
    }
   ],
   "source": [
    "pass_list1.count(numeric_only=True)"
   ]
  },
  {
   "cell_type": "code",
   "execution_count": 72,
   "metadata": {},
   "outputs": [
    {
     "data": {
      "text/plain": [
       "pandas.core.frame.DataFrame"
      ]
     },
     "execution_count": 72,
     "metadata": {},
     "output_type": "execute_result"
    }
   ],
   "source": [
    "type(all_passwords)"
   ]
  },
  {
   "cell_type": "code",
   "execution_count": 113,
   "metadata": {},
   "outputs": [],
   "source": [
    "test=pass_list1"
   ]
  },
  {
   "cell_type": "code",
   "execution_count": 114,
   "metadata": {},
   "outputs": [
    {
     "data": {
      "text/plain": [
       "pandas.core.frame.DataFrame"
      ]
     },
     "execution_count": 114,
     "metadata": {},
     "output_type": "execute_result"
    }
   ],
   "source": [
    "type(test)"
   ]
  },
  {
   "cell_type": "code",
   "execution_count": 115,
   "metadata": {},
   "outputs": [],
   "source": [
    "test=pd.to_numeric(pd.Series(test[0]),errors='ignore')"
   ]
  },
  {
   "cell_type": "code",
   "execution_count": 116,
   "metadata": {},
   "outputs": [
    {
     "data": {
      "text/plain": [
       "pandas.core.series.Series"
      ]
     },
     "execution_count": 116,
     "metadata": {},
     "output_type": "execute_result"
    }
   ],
   "source": [
    "type(test)"
   ]
  },
  {
   "cell_type": "code",
   "execution_count": 117,
   "metadata": {},
   "outputs": [],
   "source": [
    "test1=pd.DataFrame(test)"
   ]
  },
  {
   "cell_type": "code",
   "execution_count": 118,
   "metadata": {},
   "outputs": [
    {
     "data": {
      "text/plain": [
       "Series([], dtype: int64)"
      ]
     },
     "execution_count": 118,
     "metadata": {},
     "output_type": "execute_result"
    }
   ],
   "source": [
    "test1.count(numeric_only=True)"
   ]
  },
  {
   "cell_type": "code",
   "execution_count": 102,
   "metadata": {},
   "outputs": [
    {
     "data": {
      "text/plain": [
       "pandas.core.series.Series"
      ]
     },
     "execution_count": 102,
     "metadata": {},
     "output_type": "execute_result"
    }
   ],
   "source": [
    "type(test)"
   ]
  },
  {
   "cell_type": "code",
   "execution_count": null,
   "metadata": {},
   "outputs": [],
   "source": []
  }
 ],
 "metadata": {
  "kernelspec": {
   "display_name": "Python 3",
   "language": "python",
   "name": "python3"
  },
  "language_info": {
   "codemirror_mode": {
    "name": "ipython",
    "version": 3
   },
   "file_extension": ".py",
   "mimetype": "text/x-python",
   "name": "python",
   "nbconvert_exporter": "python",
   "pygments_lexer": "ipython3",
   "version": "3.7.3"
  }
 },
 "nbformat": 4,
 "nbformat_minor": 2
}
